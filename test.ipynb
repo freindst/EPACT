{
 "cells": [
  {
   "cell_type": "code",
   "execution_count": 8,
   "metadata": {},
   "outputs": [],
   "source": [
    "import os\n",
    "\n",
    "from torch.utils.data import DataLoader\n",
    "from EPACT.utils import load_config, set_seed\n",
    "from EPACT.dataset import UnlabeledDataset, UnlabeledBacthConverter\n",
    "from EPACT.trainer import PairedCDR3pMHCCoembeddingTrainer, PairedCDR123pMHCCoembeddingTrainer"
   ]
  },
  {
   "cell_type": "code",
   "execution_count": 9,
   "metadata": {},
   "outputs": [],
   "source": [
    "#@markdown Select the EPACT model:\n",
    "model_name = \"CDR3 binding model\" #@param ['CDR3 binding model', 'CDR123 binding model']\n",
    "\n",
    "#@markdown In default, we will use `sample/VDJdb-GLCTLVAML.csv` for prediction.\n",
    "input_data_path = \"sample/VDJdb-GLCTLVAML.csv\" #@param {type:\"string\"}\n",
    "\n",
    "#@markdown Specify the name of the result folder:\n",
    "result_dir = \"demo/binding\" #@param {type:\"string\"}\n",
    "\n",
    "#@markdown Specify the number of batch size:\n",
    "batch_size = 128 #@param {type: \"integer\"}"
   ]
  },
  {
   "cell_type": "code",
   "execution_count": 10,
   "metadata": {},
   "outputs": [],
   "source": [
    "if model_name == \"CDR3 binding model\":\n",
    "  config_path = 'configs/config-paired-cdr3-pmhc-binding.yml'\n",
    "  model_location_list = [f'checkpoints/paired-cdr3-pmhc-binding/paired-cdr3-pmhc-binding-model-fold-{i+1}.pt' for i in range(5)]\n",
    "elif model_name == \"CDR123 binding model\":\n",
    "  config_path = 'configs/config-paired-cdr123-pmhc-binding.yml'\n",
    "  model_location_list = [f'checkpoints/paired-cdr123-pmhc-binding/paired-cdr123-pmhc-binding-model-fold-{i+1}.pt' for i in range(5)]\n",
    "\n",
    "config = load_config(config_path)\n",
    "set_seed(config.training.seed)\n",
    "config.training.gpu_device = 0"
   ]
  },
  {
   "cell_type": "code",
   "execution_count": 11,
   "metadata": {},
   "outputs": [
    {
     "name": "stderr",
     "output_type": "stream",
     "text": [
      "/Users/madblade/Projects/EPACT/EPACT/model/coembedding.py:109: FutureWarning: You are using `torch.load` with `weights_only=False` (the current default value), which uses the default pickle module implicitly. It is possible to construct malicious pickle data which will execute arbitrary code during unpickling (See https://github.com/pytorch/pytorch/blob/main/SECURITY.md#untrusted-models for more details). In a future release, the default value for `weights_only` will be flipped to `True`. This limits the functions that could be executed during unpickling. Arbitrary objects will no longer be allowed to be loaded via this mode unless they are explicitly allowlisted by the user via `torch.serialization.add_safe_globals`. We recommend you start setting `weights_only=True` for any use case where you don't have full control of the loaded file. Please open an issue on GitHub for any issues related to this experimental feature.\n",
      "  self.pmhc_model.load_state_dict(torch.load(pretrained_model_path, map_location='cpu'))\n",
      "/Users/madblade/Projects/EPACT/EPACT/model/coembedding.py:118: FutureWarning: You are using `torch.load` with `weights_only=False` (the current default value), which uses the default pickle module implicitly. It is possible to construct malicious pickle data which will execute arbitrary code during unpickling (See https://github.com/pytorch/pytorch/blob/main/SECURITY.md#untrusted-models for more details). In a future release, the default value for `weights_only` will be flipped to `True`. This limits the functions that could be executed during unpickling. Arbitrary objects will no longer be allowed to be loaded via this mode unless they are explicitly allowlisted by the user via `torch.serialization.add_safe_globals`. We recommend you start setting `weights_only=True` for any use case where you don't have full control of the loaded file. Please open an issue on GitHub for any issues related to this experimental feature.\n",
      "  self.tcr_model.load_state_dict(torch.load(pretrained_model_path, map_location='cpu'))\n",
      "/Users/madblade/Projects/EPACT/EPACT/trainer/binding_trainer.py:470: FutureWarning: You are using `torch.load` with `weights_only=False` (the current default value), which uses the default pickle module implicitly. It is possible to construct malicious pickle data which will execute arbitrary code during unpickling (See https://github.com/pytorch/pytorch/blob/main/SECURITY.md#untrusted-models for more details). In a future release, the default value for `weights_only` will be flipped to `True`. This limits the functions that could be executed during unpickling. Arbitrary objects will no longer be allowed to be loaded via this mode unless they are explicitly allowlisted by the user via `torch.serialization.add_safe_globals`. We recommend you start setting `weights_only=True` for any use case where you don't have full control of the loaded file. Please open an issue on GitHub for any issues related to this experimental feature.\n",
      "  self.model.load_state_dict(torch.load(model_location, map_location='cpu'), strict=False)\n",
      "100%|██████████| 2/2 [00:12<00:00,  6.21s/it]\n",
      "/Users/madblade/Projects/EPACT/EPACT/model/coembedding.py:109: FutureWarning: You are using `torch.load` with `weights_only=False` (the current default value), which uses the default pickle module implicitly. It is possible to construct malicious pickle data which will execute arbitrary code during unpickling (See https://github.com/pytorch/pytorch/blob/main/SECURITY.md#untrusted-models for more details). In a future release, the default value for `weights_only` will be flipped to `True`. This limits the functions that could be executed during unpickling. Arbitrary objects will no longer be allowed to be loaded via this mode unless they are explicitly allowlisted by the user via `torch.serialization.add_safe_globals`. We recommend you start setting `weights_only=True` for any use case where you don't have full control of the loaded file. Please open an issue on GitHub for any issues related to this experimental feature.\n",
      "  self.pmhc_model.load_state_dict(torch.load(pretrained_model_path, map_location='cpu'))\n",
      "/Users/madblade/Projects/EPACT/EPACT/model/coembedding.py:118: FutureWarning: You are using `torch.load` with `weights_only=False` (the current default value), which uses the default pickle module implicitly. It is possible to construct malicious pickle data which will execute arbitrary code during unpickling (See https://github.com/pytorch/pytorch/blob/main/SECURITY.md#untrusted-models for more details). In a future release, the default value for `weights_only` will be flipped to `True`. This limits the functions that could be executed during unpickling. Arbitrary objects will no longer be allowed to be loaded via this mode unless they are explicitly allowlisted by the user via `torch.serialization.add_safe_globals`. We recommend you start setting `weights_only=True` for any use case where you don't have full control of the loaded file. Please open an issue on GitHub for any issues related to this experimental feature.\n",
      "  self.tcr_model.load_state_dict(torch.load(pretrained_model_path, map_location='cpu'))\n",
      "/Users/madblade/Projects/EPACT/EPACT/trainer/binding_trainer.py:470: FutureWarning: You are using `torch.load` with `weights_only=False` (the current default value), which uses the default pickle module implicitly. It is possible to construct malicious pickle data which will execute arbitrary code during unpickling (See https://github.com/pytorch/pytorch/blob/main/SECURITY.md#untrusted-models for more details). In a future release, the default value for `weights_only` will be flipped to `True`. This limits the functions that could be executed during unpickling. Arbitrary objects will no longer be allowed to be loaded via this mode unless they are explicitly allowlisted by the user via `torch.serialization.add_safe_globals`. We recommend you start setting `weights_only=True` for any use case where you don't have full control of the loaded file. Please open an issue on GitHub for any issues related to this experimental feature.\n",
      "  self.model.load_state_dict(torch.load(model_location, map_location='cpu'), strict=False)\n",
      "100%|██████████| 2/2 [00:12<00:00,  6.17s/it]\n",
      "/Users/madblade/Projects/EPACT/EPACT/model/coembedding.py:109: FutureWarning: You are using `torch.load` with `weights_only=False` (the current default value), which uses the default pickle module implicitly. It is possible to construct malicious pickle data which will execute arbitrary code during unpickling (See https://github.com/pytorch/pytorch/blob/main/SECURITY.md#untrusted-models for more details). In a future release, the default value for `weights_only` will be flipped to `True`. This limits the functions that could be executed during unpickling. Arbitrary objects will no longer be allowed to be loaded via this mode unless they are explicitly allowlisted by the user via `torch.serialization.add_safe_globals`. We recommend you start setting `weights_only=True` for any use case where you don't have full control of the loaded file. Please open an issue on GitHub for any issues related to this experimental feature.\n",
      "  self.pmhc_model.load_state_dict(torch.load(pretrained_model_path, map_location='cpu'))\n",
      "/Users/madblade/Projects/EPACT/EPACT/model/coembedding.py:118: FutureWarning: You are using `torch.load` with `weights_only=False` (the current default value), which uses the default pickle module implicitly. It is possible to construct malicious pickle data which will execute arbitrary code during unpickling (See https://github.com/pytorch/pytorch/blob/main/SECURITY.md#untrusted-models for more details). In a future release, the default value for `weights_only` will be flipped to `True`. This limits the functions that could be executed during unpickling. Arbitrary objects will no longer be allowed to be loaded via this mode unless they are explicitly allowlisted by the user via `torch.serialization.add_safe_globals`. We recommend you start setting `weights_only=True` for any use case where you don't have full control of the loaded file. Please open an issue on GitHub for any issues related to this experimental feature.\n",
      "  self.tcr_model.load_state_dict(torch.load(pretrained_model_path, map_location='cpu'))\n",
      "/Users/madblade/Projects/EPACT/EPACT/trainer/binding_trainer.py:470: FutureWarning: You are using `torch.load` with `weights_only=False` (the current default value), which uses the default pickle module implicitly. It is possible to construct malicious pickle data which will execute arbitrary code during unpickling (See https://github.com/pytorch/pytorch/blob/main/SECURITY.md#untrusted-models for more details). In a future release, the default value for `weights_only` will be flipped to `True`. This limits the functions that could be executed during unpickling. Arbitrary objects will no longer be allowed to be loaded via this mode unless they are explicitly allowlisted by the user via `torch.serialization.add_safe_globals`. We recommend you start setting `weights_only=True` for any use case where you don't have full control of the loaded file. Please open an issue on GitHub for any issues related to this experimental feature.\n",
      "  self.model.load_state_dict(torch.load(model_location, map_location='cpu'), strict=False)\n",
      "100%|██████████| 2/2 [00:12<00:00,  6.18s/it]\n",
      "/Users/madblade/Projects/EPACT/EPACT/model/coembedding.py:109: FutureWarning: You are using `torch.load` with `weights_only=False` (the current default value), which uses the default pickle module implicitly. It is possible to construct malicious pickle data which will execute arbitrary code during unpickling (See https://github.com/pytorch/pytorch/blob/main/SECURITY.md#untrusted-models for more details). In a future release, the default value for `weights_only` will be flipped to `True`. This limits the functions that could be executed during unpickling. Arbitrary objects will no longer be allowed to be loaded via this mode unless they are explicitly allowlisted by the user via `torch.serialization.add_safe_globals`. We recommend you start setting `weights_only=True` for any use case where you don't have full control of the loaded file. Please open an issue on GitHub for any issues related to this experimental feature.\n",
      "  self.pmhc_model.load_state_dict(torch.load(pretrained_model_path, map_location='cpu'))\n",
      "/Users/madblade/Projects/EPACT/EPACT/model/coembedding.py:118: FutureWarning: You are using `torch.load` with `weights_only=False` (the current default value), which uses the default pickle module implicitly. It is possible to construct malicious pickle data which will execute arbitrary code during unpickling (See https://github.com/pytorch/pytorch/blob/main/SECURITY.md#untrusted-models for more details). In a future release, the default value for `weights_only` will be flipped to `True`. This limits the functions that could be executed during unpickling. Arbitrary objects will no longer be allowed to be loaded via this mode unless they are explicitly allowlisted by the user via `torch.serialization.add_safe_globals`. We recommend you start setting `weights_only=True` for any use case where you don't have full control of the loaded file. Please open an issue on GitHub for any issues related to this experimental feature.\n",
      "  self.tcr_model.load_state_dict(torch.load(pretrained_model_path, map_location='cpu'))\n",
      "/Users/madblade/Projects/EPACT/EPACT/trainer/binding_trainer.py:470: FutureWarning: You are using `torch.load` with `weights_only=False` (the current default value), which uses the default pickle module implicitly. It is possible to construct malicious pickle data which will execute arbitrary code during unpickling (See https://github.com/pytorch/pytorch/blob/main/SECURITY.md#untrusted-models for more details). In a future release, the default value for `weights_only` will be flipped to `True`. This limits the functions that could be executed during unpickling. Arbitrary objects will no longer be allowed to be loaded via this mode unless they are explicitly allowlisted by the user via `torch.serialization.add_safe_globals`. We recommend you start setting `weights_only=True` for any use case where you don't have full control of the loaded file. Please open an issue on GitHub for any issues related to this experimental feature.\n",
      "  self.model.load_state_dict(torch.load(model_location, map_location='cpu'), strict=False)\n",
      "100%|██████████| 2/2 [00:12<00:00,  6.32s/it]\n",
      "/Users/madblade/Projects/EPACT/EPACT/model/coembedding.py:109: FutureWarning: You are using `torch.load` with `weights_only=False` (the current default value), which uses the default pickle module implicitly. It is possible to construct malicious pickle data which will execute arbitrary code during unpickling (See https://github.com/pytorch/pytorch/blob/main/SECURITY.md#untrusted-models for more details). In a future release, the default value for `weights_only` will be flipped to `True`. This limits the functions that could be executed during unpickling. Arbitrary objects will no longer be allowed to be loaded via this mode unless they are explicitly allowlisted by the user via `torch.serialization.add_safe_globals`. We recommend you start setting `weights_only=True` for any use case where you don't have full control of the loaded file. Please open an issue on GitHub for any issues related to this experimental feature.\n",
      "  self.pmhc_model.load_state_dict(torch.load(pretrained_model_path, map_location='cpu'))\n",
      "/Users/madblade/Projects/EPACT/EPACT/model/coembedding.py:118: FutureWarning: You are using `torch.load` with `weights_only=False` (the current default value), which uses the default pickle module implicitly. It is possible to construct malicious pickle data which will execute arbitrary code during unpickling (See https://github.com/pytorch/pytorch/blob/main/SECURITY.md#untrusted-models for more details). In a future release, the default value for `weights_only` will be flipped to `True`. This limits the functions that could be executed during unpickling. Arbitrary objects will no longer be allowed to be loaded via this mode unless they are explicitly allowlisted by the user via `torch.serialization.add_safe_globals`. We recommend you start setting `weights_only=True` for any use case where you don't have full control of the loaded file. Please open an issue on GitHub for any issues related to this experimental feature.\n",
      "  self.tcr_model.load_state_dict(torch.load(pretrained_model_path, map_location='cpu'))\n",
      "/Users/madblade/Projects/EPACT/EPACT/trainer/binding_trainer.py:470: FutureWarning: You are using `torch.load` with `weights_only=False` (the current default value), which uses the default pickle module implicitly. It is possible to construct malicious pickle data which will execute arbitrary code during unpickling (See https://github.com/pytorch/pytorch/blob/main/SECURITY.md#untrusted-models for more details). In a future release, the default value for `weights_only` will be flipped to `True`. This limits the functions that could be executed during unpickling. Arbitrary objects will no longer be allowed to be loaded via this mode unless they are explicitly allowlisted by the user via `torch.serialization.add_safe_globals`. We recommend you start setting `weights_only=True` for any use case where you don't have full control of the loaded file. Please open an issue on GitHub for any issues related to this experimental feature.\n",
      "  self.model.load_state_dict(torch.load(model_location, map_location='cpu'), strict=False)\n",
      "100%|██████████| 2/2 [00:12<00:00,  6.21s/it]\n"
     ]
    }
   ],
   "source": [
    "dataset = UnlabeledDataset(data_path = input_data_path, hla_lib_path = config.data.hla_lib_path)\n",
    "data_loader = DataLoader(\n",
    "        dataset = dataset, batch_size = batch_size, num_workers = 1,\n",
    "        collate_fn = UnlabeledBacthConverter(max_mhc_len = config.model.mhc_seq_len, use_cdr123=config.data.use_cdr123),\n",
    "        shuffle = False\n",
    "    )\n",
    "\n",
    "if not os.path.exists(result_dir):\n",
    "  os.makedirs(result_dir)\n",
    "\n",
    "for i in range(5):\n",
    "  result_fold_dir = os.path.join(result_dir, f'Fold_{i+1}')\n",
    "\n",
    "  if not os.path.exists(result_fold_dir):\n",
    "    os.makedirs(result_fold_dir)\n",
    "\n",
    "  if config.data.use_cdr123:\n",
    "      Trainer = PairedCDR123pMHCCoembeddingTrainer(config, result_fold_dir)\n",
    "  else:\n",
    "      Trainer = PairedCDR3pMHCCoembeddingTrainer(config, result_fold_dir)\n",
    "\n",
    "  Trainer.predict(data_loader, model_location=model_location_list[i])"
   ]
  },
  {
   "cell_type": "code",
   "execution_count": 12,
   "metadata": {},
   "outputs": [],
   "source": [
    "#@title Display prediction results\n",
    "import pandas as pd\n",
    "from sklearn.metrics import roc_auc_score\n",
    "\n",
    "data = pd.read_csv(input_data_path)\n",
    "for i in range(5):\n",
    "  prediction = pd.read_csv(f'{result_dir}/Fold_{i+1}/predictions.csv')\n",
    "  if i == 0:\n",
    "    avg_pred = prediction['Pred'] / 5\n",
    "  else:\n",
    "    avg_pred += prediction['Pred'] / 5\n",
    "\n",
    "data['Pred'] = avg_pred\n",
    "auc = roc_auc_score(data['Target'], data['Pred'])"
   ]
  },
  {
   "cell_type": "code",
   "execution_count": 13,
   "metadata": {},
   "outputs": [
    {
     "name": "stdout",
     "output_type": "stream",
     "text": [
      "0.8673130193905817\n"
     ]
    }
   ],
   "source": [
    "print(auc)"
   ]
  }
 ],
 "metadata": {
  "kernelspec": {
   "display_name": "EPACT_env",
   "language": "python",
   "name": "python3"
  },
  "language_info": {
   "codemirror_mode": {
    "name": "ipython",
    "version": 3
   },
   "file_extension": ".py",
   "mimetype": "text/x-python",
   "name": "python",
   "nbconvert_exporter": "python",
   "pygments_lexer": "ipython3",
   "version": "3.10.12"
  }
 },
 "nbformat": 4,
 "nbformat_minor": 2
}
